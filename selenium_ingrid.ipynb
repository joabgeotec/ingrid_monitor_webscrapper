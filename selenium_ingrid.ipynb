{
 "cells": [
  {
   "cell_type": "code",
   "execution_count": 1,
   "id": "06dd4c52",
   "metadata": {},
   "outputs": [],
   "source": [
    "from selenium import webdriver"
   ]
  },
  {
   "cell_type": "code",
   "execution_count": 2,
   "id": "5a94a036",
   "metadata": {},
   "outputs": [],
   "source": [
    "from selenium.webdriver.support.ui import WebDriverWait\n",
    "from selenium.webdriver.support import expected_conditions as EC\n",
    "from selenium.webdriver.common.by import By\n",
    "from selenium.common.exceptions import TimeoutException\n",
    "from selenium.webdriver.common.keys import Keys"
   ]
  },
  {
   "cell_type": "code",
   "execution_count": 3,
   "id": "c7708c74",
   "metadata": {},
   "outputs": [
    {
     "name": "stderr",
     "output_type": "stream",
     "text": [
      "C:\\Users\\jbrito\\AppData\\Local\\Temp\\ipykernel_2696\\2504654941.py:1: DeprecationWarning: executable_path has been deprecated, please pass in a Service object\n",
      "  browser = webdriver.Chrome(executable_path=r\"D:\\joab\\drivers\\chromedriver.exe\") # cuidado com a versão do chromedriver\n"
     ]
    }
   ],
   "source": [
    "browser = webdriver.Chrome(executable_path=r\"D:\\joab\\drivers\\chromedriver.exe\") # cuidado com a versão do chromedriver"
   ]
  },
  {
   "cell_type": "code",
   "execution_count": 9,
   "id": "bf415a28",
   "metadata": {},
   "outputs": [],
   "source": [
    "browser.get('http://10.155.2.18:8080/ingrid_bdgd')"
   ]
  },
  {
   "cell_type": "code",
   "execution_count": 10,
   "id": "1ff267c4",
   "metadata": {},
   "outputs": [
    {
     "name": "stdout",
     "output_type": "stream",
     "text": [
      "Page is ready!\n"
     ]
    }
   ],
   "source": [
    "delay = 3 # seconds\n",
    "try:\n",
    "    myElem = WebDriverWait(browser, delay).until(EC.presence_of_element_located((By.ID, 'id_usuario')))\n",
    "    print(\"Page is ready!\")\n",
    "except TimeoutException:\n",
    "    print (\"Loading took too much time!\")"
   ]
  },
  {
   "cell_type": "code",
   "execution_count": 11,
   "id": "decb1f8f",
   "metadata": {},
   "outputs": [],
   "source": [
    "username = browser.find_element(By.ID, \"id_usuario\")\n",
    "password = browser.find_element(By.ID, \"senha\")"
   ]
  },
  {
   "cell_type": "code",
   "execution_count": 12,
   "id": "e404b88a",
   "metadata": {},
   "outputs": [],
   "source": [
    "username.send_keys(\"coord\")\n",
    "password.send_keys(\"indra\")"
   ]
  },
  {
   "cell_type": "code",
   "execution_count": 13,
   "id": "8e71eb21",
   "metadata": {},
   "outputs": [],
   "source": [
    "browser.find_element(By.XPATH, \"/html/body/form/div/div[2]/div[4]/button\").submit()"
   ]
  },
  {
   "cell_type": "code",
   "execution_count": 14,
   "id": "4ad12b27",
   "metadata": {},
   "outputs": [],
   "source": [
    "browser.find_element(By.XPATH, \"/html/body/div[22]/div/div[1]/div/span[5]\").click()"
   ]
  },
  {
   "cell_type": "code",
   "execution_count": 15,
   "id": "054b87ed",
   "metadata": {},
   "outputs": [
    {
     "data": {
      "text/plain": [
       "<selenium.webdriver.remote.webelement.WebElement (session=\"6c4b18e2004c287746f7f0fbdf106fa0\", element=\"09545042-1947-49f6-9add-97b65e740383\")>"
      ]
     },
     "execution_count": 15,
     "metadata": {},
     "output_type": "execute_result"
    }
   ],
   "source": [
    "table = browser.find_element(By.CSS_SELECTOR, \"#AgendarExtratorTableContainer > div > table\")\n",
    "table"
   ]
  },
  {
   "cell_type": "code",
   "execution_count": 16,
   "id": "cc8ec57d",
   "metadata": {},
   "outputs": [],
   "source": [
    "rows = table.find_elements(By.TAG_NAME, \"tr\")"
   ]
  },
  {
   "cell_type": "code",
   "execution_count": 17,
   "id": "168cd610",
   "metadata": {},
   "outputs": [
    {
     "name": "stdout",
     "output_type": "stream",
     "text": [
      "BD122022\n",
      "Existente\n",
      "29/04/2022 17:16:00\n",
      "Não\n",
      "Não\n",
      "GIS\n",
      "Mapa de renda bruto\n",
      "SEGCON\n",
      "Etapa 1: Extração dados do SIG;Etapa 2: Transformação;Etapa 3: Gerar Shape/DBF;;\n",
      "CONCLUÍDO\n"
     ]
    }
   ],
   "source": [
    "print(rows[1].find_elements(By.TAG_NAME, \"td\")[1].text)\n",
    "print(rows[1].find_elements(By.TAG_NAME, \"td\")[2].text)\n",
    "print(rows[1].find_elements(By.TAG_NAME, \"td\")[3].text)\n",
    "print(rows[1].find_elements(By.TAG_NAME, \"td\")[4].text)\n",
    "print(rows[1].find_elements(By.TAG_NAME, \"td\")[5].text)\n",
    "print(rows[1].find_elements(By.TAG_NAME, \"td\")[7].text)\n",
    "print(rows[1].find_elements(By.TAG_NAME, \"td\")[8].text)\n",
    "print(rows[1].find_elements(By.TAG_NAME, \"td\")[9].text)\n",
    "print(rows[1].find_elements(By.TAG_NAME, \"td\")[10].text)\n",
    "print(rows[1].find_elements(By.TAG_NAME, \"td\")[11].text)"
   ]
  },
  {
   "cell_type": "code",
   "execution_count": 18,
   "id": "f494788d",
   "metadata": {},
   "outputs": [
    {
     "name": "stdout",
     "output_type": "stream",
     "text": [
      "\n",
      "BD122022\n",
      "Existente\n",
      "29/04/2022 17:16:00\n",
      "Não\n",
      "Não\n",
      "Sim\n",
      "GIS\n",
      "Mapa de renda bruto\n",
      "SEGCON\n",
      "Etapa 1: Extração dados do SIG;Etapa 2: Transformação;Etapa 3: Gerar Shape/DBF;;\n",
      "CONCLUÍDO\n",
      "\n",
      "\n",
      "\n"
     ]
    }
   ],
   "source": [
    "for data in rows[1].find_elements(By.TAG_NAME, \"td\"):\n",
    "    print(data.text)"
   ]
  },
  {
   "cell_type": "code",
   "execution_count": 19,
   "id": "a3a113a4",
   "metadata": {},
   "outputs": [
    {
     "name": "stdout",
     "output_type": "stream",
     "text": [
      "15\n"
     ]
    }
   ],
   "source": [
    "print(len(rows[1].find_elements(By.TAG_NAME, \"td\")))"
   ]
  },
  {
   "cell_type": "code",
   "execution_count": 29,
   "id": "3e98e88e",
   "metadata": {},
   "outputs": [
    {
     "name": "stdout",
     "output_type": "stream",
     "text": [
      "<button class=\"btn btn-default btn-xs btn-info\">Ver erro</button>\n"
     ]
    }
   ],
   "source": [
    "print(rows[1].find_elements(By.TAG_NAME, \"td\")[len(rows[1].find_elements(By.TAG_NAME, \"td\"))-2].get_attribute('innerHTML'))"
   ]
  },
  {
   "cell_type": "code",
   "execution_count": 24,
   "id": "c53b7568",
   "metadata": {},
   "outputs": [
    {
     "data": {
      "text/plain": [
       "'/html/body/div[2]/div/div/div[2]/form/div[2]/div/div/div/table/tbody/tr[1]/td[13]/button'"
      ]
     },
     "execution_count": 24,
     "metadata": {},
     "output_type": "execute_result"
    }
   ],
   "source": [
    "cel_button = len(rows[1].find_elements(By.TAG_NAME, \"td\")) - 1\n",
    "string_cel = '/html/body/div[2]/div/div/div[2]/form/div[2]/div/div/div/table/tbody/tr[1]/td['+str(cel_button)+']/button'\n",
    "string_cel"
   ]
  },
  {
   "cell_type": "code",
   "execution_count": 68,
   "id": "d60834ab",
   "metadata": {},
   "outputs": [
    {
     "data": {
      "text/plain": [
       "'Ocorreu um erro durante a extração.\\nALERTA! Entidades vazias: BDGD_EP, BDGD_UNCRAT, BDGD_UNCRBT, BDGD_UNREAT, BDGD_UNSEBT,'"
      ]
     },
     "execution_count": 68,
     "metadata": {},
     "output_type": "execute_result"
    }
   ],
   "source": [
    "browser.find_elements(By.XPATH, string_cel)[0].click()\n",
    "browser.find_element(By.CLASS_NAME, 'toast-message').text.rstrip()"
   ]
  },
  {
   "cell_type": "code",
   "execution_count": 31,
   "id": "1615098a",
   "metadata": {},
   "outputs": [
    {
     "data": {
      "text/plain": [
       "'<button class=\"btn btn-default btn-xs btn-info\">Ver erro</button>'"
      ]
     },
     "execution_count": 31,
     "metadata": {},
     "output_type": "execute_result"
    }
   ],
   "source": [
    "rows[1].find_elements(By.TAG_NAME, \"td\")[cel_button].get_attribute('innerHTML')\n"
   ]
  },
  {
   "cell_type": "code",
   "execution_count": 32,
   "id": "7d8f3cff",
   "metadata": {},
   "outputs": [],
   "source": [
    "browser.find_element(By.XPATH, '//*[@id=\"editor-agendar-extrator\"]/div[1]/a').click()"
   ]
  },
  {
   "cell_type": "code",
   "execution_count": 34,
   "id": "2ba482e9",
   "metadata": {},
   "outputs": [
    {
     "name": "stdout",
     "output_type": "stream",
     "text": [
      "Monitor de Processo:\n"
     ]
    }
   ],
   "source": [
    "browser.find_element(By.XPATH, '//*[@id=\"menu\"]/span[6]/a').click()\n",
    "print(\"Monitor de Processo:\")"
   ]
  },
  {
   "cell_type": "code",
   "execution_count": null,
   "id": "55c4afac",
   "metadata": {},
   "outputs": [],
   "source": [
    "try:\n",
    "            myElem4 = WebDriverWait(browser, delay).until(EC.presence_of_element_located((By.XPATH, '//*[@id=\"LogProcessamentoTableContainer\"]/div/table/tbody/tr[1]/td[1]')))\n",
    "            \n",
    "            monitor_cell = browser.find_element(By.XPATH, '//*[@id=\"LogProcessamentoTableContainer\"]/div/table/tbody/tr[1]/td[1]')\n",
    "            print(monitor_cell)\n",
    "        except TimeoutException:\n",
    "            print (\"Loading took too much time!\")"
   ]
  }
 ],
 "metadata": {
  "kernelspec": {
   "display_name": "Python 3 (ipykernel)",
   "language": "python",
   "name": "python3"
  },
  "language_info": {
   "codemirror_mode": {
    "name": "ipython",
    "version": 3
   },
   "file_extension": ".py",
   "mimetype": "text/x-python",
   "name": "python",
   "nbconvert_exporter": "python",
   "pygments_lexer": "ipython3",
   "version": "3.10.4"
  }
 },
 "nbformat": 4,
 "nbformat_minor": 5
}
