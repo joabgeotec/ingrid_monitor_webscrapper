{
 "cells": [
  {
   "cell_type": "code",
   "execution_count": null,
   "id": "526f00b8",
   "metadata": {},
   "outputs": [],
   "source": [
    "# Imports para login"
   ]
  },
  {
   "cell_type": "code",
   "execution_count": 1,
   "id": "fe06339c",
   "metadata": {},
   "outputs": [],
   "source": [
    "import mechanize"
   ]
  },
  {
   "cell_type": "code",
   "execution_count": 3,
   "id": "c657b8ca",
   "metadata": {},
   "outputs": [],
   "source": [
    "from bs4 import BeautifulSoup"
   ]
  },
  {
   "cell_type": "code",
   "execution_count": 5,
   "id": "e9126bbd",
   "metadata": {},
   "outputs": [],
   "source": [
    "import urllib # pip install requests"
   ]
  },
  {
   "cell_type": "code",
   "execution_count": 7,
   "id": "4107b048",
   "metadata": {},
   "outputs": [],
   "source": [
    "import http.cookiejar # pip install cookiejar"
   ]
  },
  {
   "cell_type": "code",
   "execution_count": 8,
   "id": "7637726b",
   "metadata": {},
   "outputs": [],
   "source": [
    "cj = http.cookiejar.CookieJar()"
   ]
  },
  {
   "cell_type": "code",
   "execution_count": 9,
   "id": "faa7960a",
   "metadata": {},
   "outputs": [],
   "source": [
    "br = mechanize.Browser()"
   ]
  },
  {
   "cell_type": "code",
   "execution_count": 10,
   "id": "3ba66fd4",
   "metadata": {},
   "outputs": [],
   "source": [
    "br.set_cookiejar(cj)"
   ]
  },
  {
   "cell_type": "code",
   "execution_count": 11,
   "id": "8e522a15",
   "metadata": {},
   "outputs": [
    {
     "data": {
      "text/plain": [
       "<response_seek_wrapper at 0x1122e2d28c0 whose wrapped object = <closeable_response at 0x1122e2d2650 whose fp = <_io.BufferedReader>>>"
      ]
     },
     "execution_count": 11,
     "metadata": {},
     "output_type": "execute_result"
    }
   ],
   "source": [
    "br.open(\"http://10.155.2.18:8080/ingrid_bdgd/\") # vai retornar um response_seek_wrapper mas é normal"
   ]
  },
  {
   "cell_type": "code",
   "execution_count": 14,
   "id": "dd14c7f9",
   "metadata": {},
   "outputs": [],
   "source": [
    "br.select_form(nr=0)"
   ]
  },
  {
   "cell_type": "code",
   "execution_count": 15,
   "id": "76fd30a1",
   "metadata": {},
   "outputs": [
    {
     "data": {
      "text/plain": [
       "<response_seek_wrapper at 0x1122e5b0a30 whose wrapped object = <closeable_response at 0x1122ee9b100 whose fp = <_io.BufferedReader>>>"
      ]
     },
     "execution_count": 15,
     "metadata": {},
     "output_type": "execute_result"
    }
   ],
   "source": [
    "br.form['id_usuario'] = 'coord'\n",
    "br.form['senha'] = 'indra'\n",
    "br.submit()  # vai retornar um response_seek_wrapper mas é normal"
   ]
  },
  {
   "cell_type": "code",
   "execution_count": 16,
   "id": "aaaf5203",
   "metadata": {},
   "outputs": [
    {
     "data": {
      "text/plain": [
       "b'<!DOCTYPE html>\\r\\n<html>\\r\\n<head>\\r\\n<meta charset=\"ISO-8859-1\">\\r\\n<title>InGRID BDGD</title>\\r\\n<link rel=\"shortcut icon\" href=\"img/indra.ico\" type=\"image/vnd.microsoft.icon\" id=\"favicon\">\\r\\n<link href=\"css/bootstrap/dist/css/bootstrap.css\" rel=\"stylesheet\" type=\"text/css\" />\\r\\n<link href=\"css/bootstrap/dist/css/bootstrap-theme.css\" rel=\"stylesheet\" type=\"text/css\" />\\r\\n<link href=\"css/igea/login.css\" rel=\"stylesheet\" type=\"text/css\" />\\r\\n<link href=\"css/toastr/toastr.css\" rel=\"stylesheet\" type=\"text/css\" />\\r\\n<script type=\"text/javascript\" src=\"js/jquery/jquery-1.11.0.min.js\"></script>\\r\\n<script type=\"text/javascript\" src=\"css/bootstrap/dist/js/bootstrap.min.js\"></script>\\r\\n<script src=\"js/toastr/toastr.min.js\" type=\"text/javascript\"></script>\\r\\n\\r\\n\\r\\n<script type=\"text/javascript\">\\r\\n\\tfunction getUrlParameter(sParam) {\\r\\n\\t\\tvar sPageURL = decodeURIComponent(window.location.search.substring(1)), sURLVariables = sPageURL\\r\\n\\t\\t\\t\\t.split(\\'&\\'), sParameterName, i;\\r\\n\\r\\n\\t\\tfor (i = 0; i < sURLVariables.length; i++) {\\r\\n\\t\\t\\tsParameterName = sURLVariables[i].split(\\'=\\');\\r\\n\\r\\n\\t\\t\\tif (sParameterName[0] === sParam) {\\r\\n\\t\\t\\t\\treturn sParameterName[1] === undefined ? true\\r\\n\\t\\t\\t\\t\\t\\t: sParameterName[1];\\r\\n\\t\\t\\t}\\r\\n\\t\\t}\\r\\n\\t};\\r\\n\\r\\n\\t$(document).ready(function() {\\r\\n\\t\\tvar msg = getUrlParameter(\\'mensagem\\');\\t\\t\\r\\n\\t\\tif(msg != undefined){\\r\\n\\t\\t\\tif (msg === \"AUTH_ERR\") {\\t\\t\\t\\r\\n\\t\\t\\t\\ttoastr.error(\\'Usu&aacute;rio ou senha incorreta, apos a quinta tentativa o usu\\xe1rio ser\\xe1 bloqueado.\\', \\'Erro\\');\\r\\n\\t\\t\\t} else if (msg === \"EXPIRED_LICENSE\") {\\t\\t\\t\\r\\n\\t\\t\\t\\ttoastr.error(\\'Licen&ccedil;a do produto expirada.\\', \\'Erro\\');\\r\\n\\t\\t\\t} \\r\\n\\t\\t\\telse if (msg === \"INVALID_LICENSE\") {\\t\\t\\t\\r\\n\\t\\t\\t\\ttoastr.error(\\'Licen&ccedil;a do produto inv&aacute;lida.\\', \\'Erro\\');\\r\\n\\t\\t\\t} \\r\\n\\t\\t\\telse if (msg === \"ERR_DB\") {\\t\\t\\t\\r\\n\\t\\t\\t\\ttoastr.error(\\'Erro ao conectar com o banco de dados. Contate o administrador da aplica&ccedil;&atilde;o.\\', \\'Erro\\');\\r\\n\\t\\t\\t} \\r\\n\\t\\t\\telse if (msg === \"ERR_BLQ\") {\\t\\t\\t\\r\\n\\t\\t\\t\\ttoastr.error(\\'Usu\\xe1rio bloqueado.\\', \\'Erro\\');\\r\\n\\t\\t\\t}\\r\\n\\t\\t\\telse {\\r\\n\\t\\t\\t\\ttoastr.error(\\'Erro inesperado. Contate o administrador da aplica&ccedil;&atilde;o\\', \\'Erro\\');\\r\\n\\t\\t\\t}\\r\\n\\t\\t\\t\\r\\n\\t\\t\\t\\r\\n\\t\\t}\\t\\t\\r\\n\\t});\\r\\n\\r\\n\\tfunction validateForm() {\\r\\n\\r\\n\\t\\tvar usuario = $(\\'#id_usuario\\').val();\\r\\n\\t\\tvar senha = $(\\'#senha\\').val();\\r\\n\\r\\n\\t\\tif (usuario == \"\") {\\r\\n\\t\\t\\ttoastr.error(\\'Informe o Usu&aacute;rio.\\', \\'Erro\\');\\r\\n\\t\\t\\treturn false;\\r\\n\\t\\t}\\r\\n\\r\\n\\t\\tif (senha == \"\") {\\r\\n\\t\\t\\ttoastr.error(\\'Informe a Senha.\\', \\'Erro\\');\\r\\n\\t\\t\\treturn false;\\r\\n\\t\\t}\\r\\n\\r\\n\\t\\treturn true;\\r\\n\\r\\n\\t}\\r\\n</script>\\r\\n</head>\\r\\n<body>\\r\\n\\t<form action=\"Login\" method=\"post\" onsubmit=\"return validateForm()\">\\r\\n\\t\\t<div class=\"login-container animated fadeInDown\">\\r\\n\\t\\t\\t<div>\\r\\n\\t\\t\\t\\t<img src=\"img/logo.png\" width=\"100%\" /> \\r\\n\\t\\t\\t</div>\\t\\t\\t\\r\\n\\t\\t\\t<br />\\r\\n\\t\\t\\t<div class=\"loginbox\">\\r\\n\\t\\t\\t\\t<div class=\"loginbox-title\" style=\"color: white\">InGRID BDGD <span style=\"font-size: 12px;\">v1.0.37</span> </div>\\r\\n\\t\\t\\t\\t<div class=\"loginbox-textbox\">\\r\\n\\t\\t\\t\\t\\t<input type=\"text\" name=\"id_usuario\" id=\"id_usuario\" placeholder=\"Usu\\xe1rio\" class=\"form-control\" />\\r\\n\\t\\t\\t\\t</div>\\r\\n\\t\\t\\t\\t<div class=\"loginbox-textbox\">\\r\\n\\t\\t\\t\\t\\t<input type=\"password\" name=\"senha\" id=\"senha\" placeholder=\"Senha\" class=\"form-control\" />\\r\\n\\t\\t\\t\\t</div>\\r\\n\\t\\t\\t\\t<div class=\"loginbox-submit title_xs\">\\r\\n\\t\\t\\t\\t\\t<button type=\"submit\" value=\"Submit\" class=\"btn btn-white btn-block\">Ok</button>\\r\\n\\t\\t\\t\\t</div>\\t\\t\\t\\t\\r\\n\\t\\t\\t</div>\\r\\n\\t\\t\\t<br />\\r\\n\\t\\t\\t<div style=\"text-align: right;\" >\\r\\n\\t\\t\\t\\t<img src=\"img/logo_indra.png\" width=\"40%\" />\\r\\n\\t\\t\\t</div>  \\r\\n\\t\\t</div>\\t\\t\\r\\n\\t</form>\\t\\r\\n</body>\\r\\n</html>\\r\\n'"
      ]
     },
     "execution_count": 16,
     "metadata": {},
     "output_type": "execute_result"
    }
   ],
   "source": [
    "br.response().read()"
   ]
  }
 ],
 "metadata": {
  "kernelspec": {
   "display_name": "Python 3 (ipykernel)",
   "language": "python",
   "name": "python3"
  },
  "language_info": {
   "codemirror_mode": {
    "name": "ipython",
    "version": 3
   },
   "file_extension": ".py",
   "mimetype": "text/x-python",
   "name": "python",
   "nbconvert_exporter": "python",
   "pygments_lexer": "ipython3",
   "version": "3.10.4"
  }
 },
 "nbformat": 4,
 "nbformat_minor": 5
}
